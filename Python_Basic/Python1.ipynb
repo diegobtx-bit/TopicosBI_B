{
 "cells": [
  {
   "cell_type": "markdown",
   "id": "8dfe2b86",
   "metadata": {},
   "source": [
    "# Pyhton for Big Data\n",
    "Temas de python a trabajar\n",
    "\n",
    "## sumary\n",
    "1. Variables\n",
    "2. String\n",
    "3. Function Print\n",
    "4. Booleanos\n",
    "5. Loops\n",
    "6. Funciones\n",
    "7. Manejo de Excepciones "
   ]
  },
  {
   "cell_type": "markdown",
   "id": "1dc061fd",
   "metadata": {},
   "source": [
    "#1. Variables"
   ]
  },
  {
   "cell_type": "code",
   "execution_count": 1,
   "id": "707f0d2e",
   "metadata": {},
   "outputs": [],
   "source": [
    "#Declarando Variables\n",
    "edad_persona = 20\n",
    "estado = \"si\""
   ]
  },
  {
   "cell_type": "code",
   "execution_count": 2,
   "id": "7ecde4d4",
   "metadata": {},
   "outputs": [
    {
     "data": {
      "text/plain": [
       "'si'"
      ]
     },
     "execution_count": 2,
     "metadata": {},
     "output_type": "execute_result"
    }
   ],
   "source": [
    "edad_persona\n",
    "estado"
   ]
  },
  {
   "cell_type": "code",
   "execution_count": 3,
   "id": "1f0146cb",
   "metadata": {},
   "outputs": [],
   "source": [
    "# Interactuando con el usuario\n",
    "#monto_interes = float(input(\"Ingrese el monto de interes: \"))"
   ]
  },
  {
   "cell_type": "code",
   "execution_count": 4,
   "id": "973cb460",
   "metadata": {},
   "outputs": [],
   "source": [
    "# Operando con una variable\n",
    "resultado = edad_persona * 0.19"
   ]
  },
  {
   "cell_type": "code",
   "execution_count": 5,
   "id": "36ce3ddd",
   "metadata": {},
   "outputs": [
    {
     "data": {
      "text/plain": [
       "3.8"
      ]
     },
     "execution_count": 5,
     "metadata": {},
     "output_type": "execute_result"
    }
   ],
   "source": [
    "\n",
    "resultado"
   ]
  },
  {
   "cell_type": "code",
   "execution_count": 6,
   "id": "95bcbe4a",
   "metadata": {},
   "outputs": [
    {
     "data": {
      "text/plain": [
       "int"
      ]
     },
     "execution_count": 6,
     "metadata": {},
     "output_type": "execute_result"
    }
   ],
   "source": [
    "type(edad_persona)"
   ]
  },
  {
   "cell_type": "code",
   "execution_count": 7,
   "id": "4fc66c94",
   "metadata": {},
   "outputs": [
    {
     "data": {
      "text/plain": [
       "str"
      ]
     },
     "execution_count": 7,
     "metadata": {},
     "output_type": "execute_result"
    }
   ],
   "source": [
    "type(estado)"
   ]
  },
  {
   "cell_type": "code",
   "execution_count": 8,
   "id": "95b9a2f6",
   "metadata": {},
   "outputs": [
    {
     "data": {
      "text/plain": [
       "95.0"
      ]
     },
     "execution_count": 8,
     "metadata": {},
     "output_type": "execute_result"
    }
   ],
   "source": [
    "# Operando variable\n",
    "25*resultado"
   ]
  },
  {
   "cell_type": "code",
   "execution_count": 9,
   "id": "5f32abca",
   "metadata": {},
   "outputs": [
    {
     "data": {
      "text/plain": [
       "'3.8'"
      ]
     },
     "execution_count": 9,
     "metadata": {},
     "output_type": "execute_result"
    }
   ],
   "source": [
    "# Cambiando tipo de variable\n",
    "str_resultado = str(resultado)\n",
    "str_resultado"
   ]
  },
  {
   "cell_type": "code",
   "execution_count": 10,
   "id": "b4c542f1",
   "metadata": {},
   "outputs": [
    {
     "data": {
      "text/plain": [
       "3.8"
      ]
     },
     "execution_count": 10,
     "metadata": {},
     "output_type": "execute_result"
    }
   ],
   "source": [
    "int_resultado = float(str_resultado)\n",
    "int_resultado"
   ]
  },
  {
   "cell_type": "markdown",
   "id": "01985407",
   "metadata": {},
   "source": [
    "# 2. String"
   ]
  },
  {
   "cell_type": "code",
   "execution_count": 11,
   "id": "7dff8a38",
   "metadata": {},
   "outputs": [
    {
     "data": {
      "text/plain": [
       "'DiegoFlores'"
      ]
     },
     "execution_count": 11,
     "metadata": {},
     "output_type": "execute_result"
    }
   ],
   "source": [
    "#Concatenar Strings\n",
    "\"Diego\" + \"Flores\""
   ]
  },
  {
   "cell_type": "code",
   "execution_count": 12,
   "id": "d5371a7b",
   "metadata": {},
   "outputs": [],
   "source": [
    "#comillas simples o dobles\n",
    "text1 = \"Mi primer texto\"\n",
    "text2 = 'Mi segundo texto'"
   ]
  },
  {
   "cell_type": "code",
   "execution_count": 13,
   "id": "aa6d9530",
   "metadata": {},
   "outputs": [
    {
     "data": {
      "text/plain": [
       "'Mi segundo texto'"
      ]
     },
     "execution_count": 13,
     "metadata": {},
     "output_type": "execute_result"
    }
   ],
   "source": [
    "text1\n",
    "text2"
   ]
  },
  {
   "cell_type": "code",
   "execution_count": 14,
   "id": "db446377",
   "metadata": {},
   "outputs": [
    {
     "data": {
      "text/plain": [
       "'\\nSelect * from tabla\\nwhere id = 25\\nGroup by año\\n'"
      ]
     },
     "execution_count": 14,
     "metadata": {},
     "output_type": "execute_result"
    }
   ],
   "source": [
    "# Comillas triples\n",
    "text3 = \"\"\"\n",
    "Select * from tabla\n",
    "where id = 25\n",
    "Group by año\n",
    "\"\"\"\n",
    "\n",
    "text3"
   ]
  },
  {
   "cell_type": "code",
   "execution_count": 15,
   "id": "060a9087",
   "metadata": {},
   "outputs": [],
   "source": [
    "# Operaciones con Strings\n",
    "text1 = \"Hello World\"\n",
    "text2 = \"5\"\n",
    "text3 = \"Cinco\""
   ]
  },
  {
   "cell_type": "code",
   "execution_count": 16,
   "id": "18ab915b",
   "metadata": {},
   "outputs": [
    {
     "data": {
      "text/plain": [
       "'Hello world'"
      ]
     },
     "execution_count": 16,
     "metadata": {},
     "output_type": "execute_result"
    }
   ],
   "source": [
    "text1.capitalize()"
   ]
  },
  {
   "cell_type": "code",
   "execution_count": 17,
   "id": "e2254ed7",
   "metadata": {},
   "outputs": [
    {
     "data": {
      "text/plain": [
       "'CINCO'"
      ]
     },
     "execution_count": 17,
     "metadata": {},
     "output_type": "execute_result"
    }
   ],
   "source": [
    "text3.upper()"
   ]
  },
  {
   "cell_type": "code",
   "execution_count": 18,
   "id": "2df13003",
   "metadata": {},
   "outputs": [
    {
     "data": {
      "text/plain": [
       "'cinco'"
      ]
     },
     "execution_count": 18,
     "metadata": {},
     "output_type": "execute_result"
    }
   ],
   "source": [
    "text3.lower()"
   ]
  },
  {
   "cell_type": "code",
   "execution_count": 19,
   "id": "6ae6aefd",
   "metadata": {},
   "outputs": [
    {
     "data": {
      "text/plain": [
       "'Hello World'"
      ]
     },
     "execution_count": 19,
     "metadata": {},
     "output_type": "execute_result"
    }
   ],
   "source": [
    "text1.title()"
   ]
  },
  {
   "cell_type": "code",
   "execution_count": 20,
   "id": "7ea11e0b",
   "metadata": {},
   "outputs": [
    {
     "data": {
      "text/plain": [
       "3"
      ]
     },
     "execution_count": 20,
     "metadata": {},
     "output_type": "execute_result"
    }
   ],
   "source": [
    "text1.count(\"l\")"
   ]
  },
  {
   "cell_type": "code",
   "execution_count": 21,
   "id": "c0a82ea1",
   "metadata": {},
   "outputs": [
    {
     "data": {
      "text/plain": [
       "['Hello', 'World']"
      ]
     },
     "execution_count": 21,
     "metadata": {},
     "output_type": "execute_result"
    }
   ],
   "source": [
    "# Dividir texto\n",
    "text1.split(\" \")"
   ]
  },
  {
   "cell_type": "code",
   "execution_count": 22,
   "id": "98b05e12",
   "metadata": {},
   "outputs": [
    {
     "data": {
      "text/plain": [
       "['Hello World']"
      ]
     },
     "execution_count": 22,
     "metadata": {},
     "output_type": "execute_result"
    }
   ],
   "source": [
    "text1.split('w')"
   ]
  },
  {
   "cell_type": "code",
   "execution_count": 23,
   "id": "42d5e1bf",
   "metadata": {},
   "outputs": [
    {
     "data": {
      "text/plain": [
       "'(hello wordl),'"
      ]
     },
     "execution_count": 23,
     "metadata": {},
     "output_type": "execute_result"
    }
   ],
   "source": [
    "# Limpiando extremo strings\n",
    "text4 = \"(hello wordl), \"\n",
    "text4.strip()"
   ]
  },
  {
   "cell_type": "code",
   "execution_count": 24,
   "id": "53cf8511",
   "metadata": {},
   "outputs": [
    {
     "data": {
      "text/plain": [
       "'hello wordl'"
      ]
     },
     "execution_count": 24,
     "metadata": {},
     "output_type": "execute_result"
    }
   ],
   "source": [
    "text4.strip(\"(), \")"
   ]
  },
  {
   "cell_type": "code",
   "execution_count": 25,
   "id": "8f0418d2",
   "metadata": {},
   "outputs": [
    {
     "data": {
      "text/plain": [
       "'Hi World, Hi Universe'"
      ]
     },
     "execution_count": 25,
     "metadata": {},
     "output_type": "execute_result"
    }
   ],
   "source": [
    "# Reemplazando Strings\n",
    "text_5 = 'Hello World, Hello Universe'\n",
    "text_5.replace('Hello', 'Hi')"
   ]
  },
  {
   "cell_type": "code",
   "execution_count": 26,
   "id": "cdbbe184",
   "metadata": {},
   "outputs": [
    {
     "data": {
      "text/plain": [
       "6"
      ]
     },
     "execution_count": 26,
     "metadata": {},
     "output_type": "execute_result"
    }
   ],
   "source": [
    "#Encontrar el string\n",
    "text_5.find('World')"
   ]
  },
  {
   "cell_type": "code",
   "execution_count": 27,
   "id": "57db9867",
   "metadata": {},
   "outputs": [
    {
     "data": {
      "text/plain": [
       "'H'"
      ]
     },
     "execution_count": 27,
     "metadata": {},
     "output_type": "execute_result"
    }
   ],
   "source": [
    "#parte de un stirng\n",
    "text_5[0]"
   ]
  },
  {
   "cell_type": "code",
   "execution_count": 28,
   "id": "d72ff188",
   "metadata": {},
   "outputs": [
    {
     "data": {
      "text/plain": [
       "'olleH'"
      ]
     },
     "execution_count": 28,
     "metadata": {},
     "output_type": "execute_result"
    }
   ],
   "source": [
    "text_5[4::-1]"
   ]
  },
  {
   "cell_type": "code",
   "execution_count": 29,
   "id": "3f175b33",
   "metadata": {},
   "outputs": [
    {
     "data": {
      "text/plain": [
       "['HELLO', 'WORDL']"
      ]
     },
     "execution_count": 29,
     "metadata": {},
     "output_type": "execute_result"
    }
   ],
   "source": [
    "#llamada a una cadena\n",
    "text4.strip('(), ').upper().split()"
   ]
  },
  {
   "cell_type": "code",
   "execution_count": 30,
   "id": "53390993",
   "metadata": {},
   "outputs": [
    {
     "data": {
      "text/plain": [
       "'Hola Diego, este es el curso de Topicos Especiales BI'"
      ]
     },
     "execution_count": 30,
     "metadata": {},
     "output_type": "execute_result"
    }
   ],
   "source": [
    "#python f-strings\n",
    "nombre = \" Diego\"\n",
    "curso = \"Topicos Especiales BI\"\n",
    "f'Hola{nombre}, este es el curso de {curso}'"
   ]
  },
  {
   "cell_type": "code",
   "execution_count": 31,
   "id": "3b235470",
   "metadata": {},
   "outputs": [],
   "source": [
    "#Otras operaciones con strings\n",
    "string_1 = \"hello world\"\n",
    "string_2 = '5'\n",
    "string_3 = 'cinco'"
   ]
  },
  {
   "cell_type": "code",
   "execution_count": 32,
   "id": "451a2e63",
   "metadata": {},
   "outputs": [
    {
     "data": {
      "text/plain": [
       "False"
      ]
     },
     "execution_count": 32,
     "metadata": {},
     "output_type": "execute_result"
    }
   ],
   "source": [
    "string_1.isdigit()"
   ]
  },
  {
   "cell_type": "code",
   "execution_count": 33,
   "id": "af7b84b0",
   "metadata": {},
   "outputs": [
    {
     "data": {
      "text/plain": [
       "True"
      ]
     },
     "execution_count": 33,
     "metadata": {},
     "output_type": "execute_result"
    }
   ],
   "source": [
    "string_2.isdigit()"
   ]
  },
  {
   "cell_type": "code",
   "execution_count": 34,
   "id": "82ad7d83",
   "metadata": {},
   "outputs": [
    {
     "data": {
      "text/plain": [
       "False"
      ]
     },
     "execution_count": 34,
     "metadata": {},
     "output_type": "execute_result"
    }
   ],
   "source": [
    "string_1.isalpha()"
   ]
  },
  {
   "cell_type": "code",
   "execution_count": 35,
   "id": "3e349a69",
   "metadata": {},
   "outputs": [
    {
     "data": {
      "text/plain": [
       "True"
      ]
     },
     "execution_count": 35,
     "metadata": {},
     "output_type": "execute_result"
    }
   ],
   "source": [
    "string_3.isalpha() #es palabra"
   ]
  },
  {
   "cell_type": "code",
   "execution_count": 36,
   "id": "13c3f1bc",
   "metadata": {},
   "outputs": [
    {
     "data": {
      "text/plain": [
       "'abcdefghijklmnopqrstuvwxyz'"
      ]
     },
     "execution_count": 36,
     "metadata": {},
     "output_type": "execute_result"
    }
   ],
   "source": [
    "import string\n",
    "string.ascii_lowercase"
   ]
  },
  {
   "cell_type": "code",
   "execution_count": 37,
   "id": "a9b85de2",
   "metadata": {},
   "outputs": [
    {
     "data": {
      "text/plain": [
       "'ABCDEFGHIJKLMNOPQRSTUVWXYZ'"
      ]
     },
     "execution_count": 37,
     "metadata": {},
     "output_type": "execute_result"
    }
   ],
   "source": [
    "string.ascii_uppercase"
   ]
  },
  {
   "cell_type": "code",
   "execution_count": 38,
   "id": "ffaff9fa",
   "metadata": {},
   "outputs": [
    {
     "data": {
      "text/plain": [
       "'abcdefghijklmnopqrstuvwxyzABCDEFGHIJKLMNOPQRSTUVWXYZ'"
      ]
     },
     "execution_count": 38,
     "metadata": {},
     "output_type": "execute_result"
    }
   ],
   "source": [
    "string.ascii_letters"
   ]
  },
  {
   "cell_type": "code",
   "execution_count": 39,
   "id": "cb20a0cc",
   "metadata": {},
   "outputs": [
    {
     "data": {
      "text/plain": [
       "False"
      ]
     },
     "execution_count": 39,
     "metadata": {},
     "output_type": "execute_result"
    }
   ],
   "source": [
    "string_1.isalnum()"
   ]
  },
  {
   "cell_type": "code",
   "execution_count": 40,
   "id": "18ce3b16",
   "metadata": {},
   "outputs": [
    {
     "data": {
      "text/plain": [
       "True"
      ]
     },
     "execution_count": 40,
     "metadata": {},
     "output_type": "execute_result"
    }
   ],
   "source": [
    "string_2.isalnum()"
   ]
  },
  {
   "cell_type": "code",
   "execution_count": 41,
   "id": "185e3ecc",
   "metadata": {},
   "outputs": [
    {
     "data": {
      "text/plain": [
       "'Hi mundo'"
      ]
     },
     "execution_count": 41,
     "metadata": {},
     "output_type": "execute_result"
    }
   ],
   "source": [
    "#Reemplazar string\n",
    "cadena_5 = 'Hola mundo'\n",
    "cadena_5.replace('Hola','Hi')"
   ]
  },
  {
   "cell_type": "code",
   "execution_count": 42,
   "id": "00fd3a0b",
   "metadata": {},
   "outputs": [
    {
     "data": {
      "text/plain": [
       "1"
      ]
     },
     "execution_count": 42,
     "metadata": {},
     "output_type": "execute_result"
    }
   ],
   "source": [
    "cadena_5.index('o')"
   ]
  },
  {
   "cell_type": "code",
   "execution_count": 43,
   "id": "653058d2",
   "metadata": {},
   "outputs": [
    {
     "data": {
      "text/plain": [
       "9"
      ]
     },
     "execution_count": 43,
     "metadata": {},
     "output_type": "execute_result"
    }
   ],
   "source": [
    "cadena_5.index('o',6)"
   ]
  },
  {
   "cell_type": "code",
   "execution_count": 45,
   "id": "1d119c6a",
   "metadata": {},
   "outputs": [
    {
     "data": {
      "text/plain": [
       "'a'"
      ]
     },
     "execution_count": 45,
     "metadata": {},
     "output_type": "execute_result"
    }
   ],
   "source": [
    "cadena_5[3]"
   ]
  },
  {
   "cell_type": "markdown",
   "id": "60dec6cc",
   "metadata": {},
   "source": [
    "#3. Funcion Print"
   ]
  },
  {
   "cell_type": "code",
   "execution_count": 46,
   "id": "f3536082",
   "metadata": {},
   "outputs": [
    {
     "name": "stdout",
     "output_type": "stream",
     "text": [
      "hello world\n"
     ]
    }
   ],
   "source": [
    "print(string_1)"
   ]
  },
  {
   "cell_type": "code",
   "execution_count": 47,
   "id": "e92df5ab",
   "metadata": {},
   "outputs": [
    {
     "name": "stdout",
     "output_type": "stream",
     "text": [
      "<class 'str'>\n"
     ]
    }
   ],
   "source": [
    "print(type(string_1))"
   ]
  },
  {
   "cell_type": "code",
   "execution_count": 49,
   "id": "6d13e709",
   "metadata": {},
   "outputs": [
    {
     "name": "stdout",
     "output_type": "stream",
     "text": [
      "Mi nombre es:  Diego\n",
      "Mi nombre es:  Diego\n"
     ]
    }
   ],
   "source": [
    "print('Mi nombre es:', nombre)\n",
    "print(f'Mi nombre es: {nombre}')"
   ]
  },
  {
   "cell_type": "code",
   "execution_count": 52,
   "id": "8aadf8ce",
   "metadata": {},
   "outputs": [
    {
     "name": "stdout",
     "output_type": "stream",
     "text": [
      "Los datos del curso son: \n",
      " Curso \t\t: Topicos especiales en BI\n",
      " Ciclo \t\t: Sexto\n",
      " Tipo de curso \t: Electivo\n"
     ]
    }
   ],
   "source": [
    "print(\"Los datos del curso son: \\n Curso \\t\\t: Topicos especiales en BI\\n Ciclo \\t\\t: Sexto\\n Tipo de curso \\t: Electivo\")"
   ]
  },
  {
   "cell_type": "markdown",
   "id": "bc8b059d",
   "metadata": {},
   "source": [
    "#4.Booleanos"
   ]
  },
  {
   "cell_type": "code",
   "execution_count": 53,
   "id": "c6eb9952",
   "metadata": {},
   "outputs": [
    {
     "name": "stdout",
     "output_type": "stream",
     "text": [
      "<class 'bool'>\n"
     ]
    }
   ],
   "source": [
    "final_page = True\n",
    "print(type(final_page))"
   ]
  },
  {
   "cell_type": "code",
   "execution_count": 54,
   "id": "eb72ceec",
   "metadata": {},
   "outputs": [
    {
     "name": "stdout",
     "output_type": "stream",
     "text": [
      "Final de la pagina\n"
     ]
    }
   ],
   "source": [
    "if final_page:\n",
    "    print('Final de la pagina')\n",
    "else:\n",
    "    print('Sigue leyendo')"
   ]
  },
  {
   "cell_type": "code",
   "execution_count": 55,
   "id": "9d180b8b",
   "metadata": {},
   "outputs": [
    {
     "data": {
      "text/plain": [
       "False"
      ]
     },
     "execution_count": 55,
     "metadata": {},
     "output_type": "execute_result"
    }
   ],
   "source": [
    "#Operadores logicos\n",
    "not True"
   ]
  },
  {
   "cell_type": "code",
   "execution_count": 56,
   "id": "cb74a95c",
   "metadata": {},
   "outputs": [
    {
     "data": {
      "text/plain": [
       "True"
      ]
     },
     "execution_count": 56,
     "metadata": {},
     "output_type": "execute_result"
    }
   ],
   "source": [
    "not False"
   ]
  },
  {
   "cell_type": "code",
   "execution_count": 57,
   "id": "ff19e3ad",
   "metadata": {},
   "outputs": [
    {
     "data": {
      "text/plain": [
       "True"
      ]
     },
     "execution_count": 57,
     "metadata": {},
     "output_type": "execute_result"
    }
   ],
   "source": [
    "True and True"
   ]
  },
  {
   "cell_type": "code",
   "execution_count": 58,
   "id": "5d986d0a",
   "metadata": {},
   "outputs": [
    {
     "data": {
      "text/plain": [
       "False"
      ]
     },
     "execution_count": 58,
     "metadata": {},
     "output_type": "execute_result"
    }
   ],
   "source": [
    "True and False"
   ]
  },
  {
   "cell_type": "code",
   "execution_count": 59,
   "id": "6519bda4",
   "metadata": {},
   "outputs": [],
   "source": [
    "#Comparacion\n",
    "#1<'uno'\n",
    "# no se puede comparar una cadena con un numero"
   ]
  },
  {
   "cell_type": "markdown",
   "id": "b2fdf9e6",
   "metadata": {},
   "source": [
    "#5. Loops"
   ]
  },
  {
   "cell_type": "code",
   "execution_count": 60,
   "id": "736bf900",
   "metadata": {},
   "outputs": [
    {
     "name": "stdout",
     "output_type": "stream",
     "text": [
      "H\n",
      "o\n",
      "l\n",
      "a\n",
      " \n",
      "m\n",
      "u\n",
      "n\n",
      "d\n",
      "o\n"
     ]
    }
   ],
   "source": [
    "for letra in 'Hola mundo':\n",
    "    print(letra)"
   ]
  },
  {
   "cell_type": "code",
   "execution_count": 63,
   "id": "5dd9cb85",
   "metadata": {},
   "outputs": [
    {
     "name": "stdout",
     "output_type": "stream",
     "text": [
      "Palabras:['Hola', 'a', 'Todos']\n"
     ]
    }
   ],
   "source": [
    "my_string = 'Hola a Todos'\n",
    "palabras = my_string.split()\n",
    "print(f'Palabras:{palabras}')"
   ]
  },
  {
   "cell_type": "code",
   "execution_count": 65,
   "id": "f4e8caf7",
   "metadata": {},
   "outputs": [
    {
     "name": "stdout",
     "output_type": "stream",
     "text": [
      "Hola\n",
      "a\n",
      "Todos\n"
     ]
    }
   ],
   "source": [
    "for palabra in palabras:\n",
    "    print(palabra)"
   ]
  },
  {
   "cell_type": "code",
   "execution_count": 66,
   "id": "ded1c22d",
   "metadata": {},
   "outputs": [
    {
     "name": "stdout",
     "output_type": "stream",
     "text": [
      "0 Hola\n",
      "1 a\n",
      "2 Todos\n"
     ]
    }
   ],
   "source": [
    "for idx, palabra in enumerate(palabras):\n",
    "    print(idx, palabra)"
   ]
  },
  {
   "cell_type": "code",
   "execution_count": 67,
   "id": "84345e0d",
   "metadata": {},
   "outputs": [
    {
     "name": "stdout",
     "output_type": "stream",
     "text": [
      "1 Hola\n",
      "2 a\n",
      "3 Todos\n"
     ]
    }
   ],
   "source": [
    "for idx, palabra in enumerate(palabras,1):\n",
    "    print(idx, palabra)"
   ]
  },
  {
   "cell_type": "code",
   "execution_count": 69,
   "id": "4d4887b0",
   "metadata": {},
   "outputs": [
    {
     "name": "stdout",
     "output_type": "stream",
     "text": [
      "El numero de intento 1\n",
      "El numero de intento 2\n",
      "El numero de intento 3\n",
      "El numero de intento 4\n",
      "El numero de intento 5\n"
     ]
    }
   ],
   "source": [
    "#Trabajando while loops\n",
    "max_intentos = 5\n",
    "intento = 1\n",
    "while intento <= max_intentos:\n",
    "    print(f'El numero de intento {intento}')\n",
    "    intento+=1"
   ]
  },
  {
   "cell_type": "markdown",
   "id": "b9edbcb2",
   "metadata": {},
   "source": [
    "# 6. FUNCIONES "
   ]
  },
  {
   "cell_type": "code",
   "execution_count": 70,
   "id": "e82ef99e",
   "metadata": {},
   "outputs": [
    {
     "name": "stdout",
     "output_type": "stream",
     "text": [
      "Ya me voy\n"
     ]
    }
   ],
   "source": [
    "print('Ya me voy')"
   ]
  },
  {
   "cell_type": "code",
   "execution_count": 71,
   "id": "c8fae6df",
   "metadata": {},
   "outputs": [
    {
     "data": {
      "text/plain": [
       "17"
      ]
     },
     "execution_count": 71,
     "metadata": {},
     "output_type": "execute_result"
    }
   ],
   "source": [
    "len('Aprobare el curso')"
   ]
  },
  {
   "cell_type": "code",
   "execution_count": 72,
   "id": "c3e193af",
   "metadata": {},
   "outputs": [],
   "source": [
    "#Creando funciones\n",
    "def saludar():\n",
    "    print('Hola')"
   ]
  },
  {
   "cell_type": "code",
   "execution_count": 73,
   "id": "370a9ec4",
   "metadata": {},
   "outputs": [],
   "source": [
    "def saluda(nombre):\n",
    "    print(f'Hola, {nombre}')"
   ]
  },
  {
   "cell_type": "code",
   "execution_count": 74,
   "id": "104d3862",
   "metadata": {},
   "outputs": [
    {
     "name": "stdout",
     "output_type": "stream",
     "text": [
      "Hola, Juan Perez\n"
     ]
    }
   ],
   "source": [
    "saluda('Juan Perez')"
   ]
  },
  {
   "cell_type": "code",
   "execution_count": 75,
   "id": "463cdf3e",
   "metadata": {},
   "outputs": [],
   "source": [
    "def bienvenido(nombre, lugar):\n",
    "    print(f'Bienvenid@ {nombre}, llegaste a {lugar}')"
   ]
  },
  {
   "cell_type": "code",
   "execution_count": 76,
   "id": "4be87f85",
   "metadata": {},
   "outputs": [
    {
     "name": "stdout",
     "output_type": "stream",
     "text": [
      "Bienvenid@ diego, llegaste a UNC\n"
     ]
    }
   ],
   "source": [
    "bienvenido('diego','UNC')"
   ]
  },
  {
   "cell_type": "code",
   "execution_count": 77,
   "id": "0a436279",
   "metadata": {},
   "outputs": [],
   "source": [
    "def sumar (a,b):\n",
    "    return a+b"
   ]
  },
  {
   "cell_type": "code",
   "execution_count": 79,
   "id": "6bfa59a0",
   "metadata": {},
   "outputs": [
    {
     "name": "stdout",
     "output_type": "stream",
     "text": [
      "13\n"
     ]
    }
   ],
   "source": [
    "#Funcion retorna valor\n",
    "resultado= sumar(6,7)\n",
    "print(resultado)"
   ]
  },
  {
   "cell_type": "code",
   "execution_count": null,
   "id": "a7e4bee3",
   "metadata": {},
   "outputs": [],
   "source": [
    "if sumar (9,7) %2:\n",
    "    print('La suma es un numero par')\n",
    "else:\n",
    "    print('La suma es un numero impar')"
   ]
  }
 ],
 "metadata": {
  "kernelspec": {
   "display_name": "Python 3",
   "language": "python",
   "name": "python3"
  },
  "language_info": {
   "codemirror_mode": {
    "name": "ipython",
    "version": 3
   },
   "file_extension": ".py",
   "mimetype": "text/x-python",
   "name": "python",
   "nbconvert_exporter": "python",
   "pygments_lexer": "ipython3",
   "version": "3.13.7"
  }
 },
 "nbformat": 4,
 "nbformat_minor": 5
}
