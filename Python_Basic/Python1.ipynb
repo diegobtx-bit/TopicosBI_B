{
 "cells": [
  {
   "cell_type": "markdown",
   "id": "8dfe2b86",
   "metadata": {},
   "source": [
    "# Pyhton for Big Data\n",
    "Temas de python a trabajar\n",
    "\n",
    "## sumary\n",
    "1. Variables\n",
    "2. String\n",
    "3. Function Print\n",
    "4. Booleanos\n",
    "5. Loops\n",
    "6. Funciones\n",
    "7. Manejo de Excepciones "
   ]
  },
  {
   "cell_type": "markdown",
   "id": "1dc061fd",
   "metadata": {},
   "source": [
    "#1. Variables"
   ]
  },
  {
   "cell_type": "code",
   "execution_count": 3,
   "id": "707f0d2e",
   "metadata": {},
   "outputs": [],
   "source": [
    "#Declarando Variables\n",
    "edad_persona = 20\n",
    "estado = \"si\""
   ]
  },
  {
   "cell_type": "code",
   "execution_count": 4,
   "id": "7ecde4d4",
   "metadata": {},
   "outputs": [
    {
     "data": {
      "text/plain": [
       "'si'"
      ]
     },
     "execution_count": 4,
     "metadata": {},
     "output_type": "execute_result"
    }
   ],
   "source": [
    "edad_persona\n",
    "estado"
   ]
  },
  {
   "cell_type": "code",
   "execution_count": 8,
   "id": "1f0146cb",
   "metadata": {},
   "outputs": [],
   "source": [
    "# Interactuando con el usuario\n",
    "#monto_interes = float(input(\"Ingrese el monto de interes: \"))"
   ]
  },
  {
   "cell_type": "code",
   "execution_count": 5,
   "id": "973cb460",
   "metadata": {},
   "outputs": [],
   "source": [
    "# Operando con una variable\n",
    "resultado = edad_persona * 0.19"
   ]
  },
  {
   "cell_type": "code",
   "execution_count": 6,
   "id": "36ce3ddd",
   "metadata": {},
   "outputs": [
    {
     "data": {
      "text/plain": [
       "3.8"
      ]
     },
     "execution_count": 6,
     "metadata": {},
     "output_type": "execute_result"
    }
   ],
   "source": [
    "\n",
    "resultado"
   ]
  },
  {
   "cell_type": "code",
   "execution_count": 7,
   "id": "95bcbe4a",
   "metadata": {},
   "outputs": [
    {
     "data": {
      "text/plain": [
       "int"
      ]
     },
     "execution_count": 7,
     "metadata": {},
     "output_type": "execute_result"
    }
   ],
   "source": [
    "type(edad_persona)"
   ]
  },
  {
   "cell_type": "code",
   "execution_count": 9,
   "id": "4fc66c94",
   "metadata": {},
   "outputs": [
    {
     "data": {
      "text/plain": [
       "str"
      ]
     },
     "execution_count": 9,
     "metadata": {},
     "output_type": "execute_result"
    }
   ],
   "source": [
    "type(estado)"
   ]
  },
  {
   "cell_type": "code",
   "execution_count": 10,
   "id": "95b9a2f6",
   "metadata": {},
   "outputs": [
    {
     "data": {
      "text/plain": [
       "95.0"
      ]
     },
     "execution_count": 10,
     "metadata": {},
     "output_type": "execute_result"
    }
   ],
   "source": [
    "# Operando variable\n",
    "25*resultado"
   ]
  },
  {
   "cell_type": "code",
   "execution_count": 14,
   "id": "5f32abca",
   "metadata": {},
   "outputs": [
    {
     "data": {
      "text/plain": [
       "'3.8'"
      ]
     },
     "execution_count": 14,
     "metadata": {},
     "output_type": "execute_result"
    }
   ],
   "source": [
    "# Cambiando tipo de variable\n",
    "str_resultado = str(resultado)\n",
    "str_resultado"
   ]
  },
  {
   "cell_type": "code",
   "execution_count": null,
   "id": "b4c542f1",
   "metadata": {},
   "outputs": [
    {
     "ename": "ValueError",
     "evalue": "invalid literal for int() with base 10: '3.8'",
     "output_type": "error",
     "traceback": [
      "\u001b[31m---------------------------------------------------------------------------\u001b[39m",
      "\u001b[31mValueError\u001b[39m                                Traceback (most recent call last)",
      "\u001b[36mCell\u001b[39m\u001b[36m \u001b[39m\u001b[32mIn[15]\u001b[39m\u001b[32m, line 1\u001b[39m\n\u001b[32m----> \u001b[39m\u001b[32m1\u001b[39m int_resultado = \u001b[38;5;28;43mint\u001b[39;49m\u001b[43m(\u001b[49m\u001b[43mstr_resultado\u001b[49m\u001b[43m)\u001b[49m\n\u001b[32m      2\u001b[39m int_resultado\n",
      "\u001b[31mValueError\u001b[39m: invalid literal for int() with base 10: '3.8'"
     ]
    }
   ],
   "source": [
    "int_resultado = float(str_resultado)\n",
    "int_resultado"
   ]
  },
  {
   "cell_type": "markdown",
   "id": "01985407",
   "metadata": {},
   "source": [
    "# 2. String"
   ]
  },
  {
   "cell_type": "code",
   "execution_count": null,
   "id": "7dff8a38",
   "metadata": {},
   "outputs": [
    {
     "data": {
      "text/plain": [
       "'AldairManosalva'"
      ]
     },
     "execution_count": 12,
     "metadata": {},
     "output_type": "execute_result"
    }
   ],
   "source": [
    "#Concatenar Strings\n",
    "\"Diego\" + \"Flores\""
   ]
  },
  {
   "cell_type": "code",
   "execution_count": 13,
   "id": "d5371a7b",
   "metadata": {},
   "outputs": [],
   "source": [
    "#comillas simples o dobles\n",
    "text1 = \"Mi primer texto\"\n",
    "text2 = 'Mi segundo texto'"
   ]
  },
  {
   "cell_type": "code",
   "execution_count": 14,
   "id": "aa6d9530",
   "metadata": {},
   "outputs": [
    {
     "data": {
      "text/plain": [
       "'Mi segundo texto'"
      ]
     },
     "execution_count": 14,
     "metadata": {},
     "output_type": "execute_result"
    }
   ],
   "source": [
    "text1\n",
    "text2"
   ]
  },
  {
   "cell_type": "code",
   "execution_count": 15,
   "id": "db446377",
   "metadata": {},
   "outputs": [
    {
     "data": {
      "text/plain": [
       "'\\nSelect * from tabla\\nwhere id = 25\\nGroup by año\\n'"
      ]
     },
     "execution_count": 15,
     "metadata": {},
     "output_type": "execute_result"
    }
   ],
   "source": [
    "# Comillas triples\n",
    "text3 = \"\"\"\n",
    "Select * from tabla\n",
    "where id = 25\n",
    "Group by año\n",
    "\"\"\"\n",
    "\n",
    "text3"
   ]
  },
  {
   "cell_type": "code",
   "execution_count": 16,
   "id": "060a9087",
   "metadata": {},
   "outputs": [],
   "source": [
    "# Operaciones con Strings\n",
    "text1 = \"Hello World\"\n",
    "text2 = \"5\"\n",
    "text3 = \"Cinco\""
   ]
  },
  {
   "cell_type": "code",
   "execution_count": 17,
   "id": "18ab915b",
   "metadata": {},
   "outputs": [
    {
     "data": {
      "text/plain": [
       "'Hello world'"
      ]
     },
     "execution_count": 17,
     "metadata": {},
     "output_type": "execute_result"
    }
   ],
   "source": [
    "text1.capitalize()"
   ]
  },
  {
   "cell_type": "code",
   "execution_count": 18,
   "id": "e2254ed7",
   "metadata": {},
   "outputs": [
    {
     "data": {
      "text/plain": [
       "'CINCO'"
      ]
     },
     "execution_count": 18,
     "metadata": {},
     "output_type": "execute_result"
    }
   ],
   "source": [
    "text3.upper()"
   ]
  },
  {
   "cell_type": "code",
   "execution_count": 19,
   "id": "2df13003",
   "metadata": {},
   "outputs": [
    {
     "data": {
      "text/plain": [
       "'cinco'"
      ]
     },
     "execution_count": 19,
     "metadata": {},
     "output_type": "execute_result"
    }
   ],
   "source": [
    "text3.lower()"
   ]
  },
  {
   "cell_type": "code",
   "execution_count": 20,
   "id": "6ae6aefd",
   "metadata": {},
   "outputs": [
    {
     "data": {
      "text/plain": [
       "'Hello World'"
      ]
     },
     "execution_count": 20,
     "metadata": {},
     "output_type": "execute_result"
    }
   ],
   "source": [
    "text1.title()"
   ]
  },
  {
   "cell_type": "code",
   "execution_count": 21,
   "id": "7ea11e0b",
   "metadata": {},
   "outputs": [
    {
     "data": {
      "text/plain": [
       "3"
      ]
     },
     "execution_count": 21,
     "metadata": {},
     "output_type": "execute_result"
    }
   ],
   "source": [
    "text1.count(\"l\")"
   ]
  },
  {
   "cell_type": "code",
   "execution_count": 22,
   "id": "c0a82ea1",
   "metadata": {},
   "outputs": [
    {
     "data": {
      "text/plain": [
       "['Hello', 'World']"
      ]
     },
     "execution_count": 22,
     "metadata": {},
     "output_type": "execute_result"
    }
   ],
   "source": [
    "# Dividir texto\n",
    "text1.split(\" \")"
   ]
  },
  {
   "cell_type": "code",
   "execution_count": 23,
   "id": "98b05e12",
   "metadata": {},
   "outputs": [
    {
     "data": {
      "text/plain": [
       "['Hello World']"
      ]
     },
     "execution_count": 23,
     "metadata": {},
     "output_type": "execute_result"
    }
   ],
   "source": [
    "text1.split('w')"
   ]
  },
  {
   "cell_type": "code",
   "execution_count": 24,
   "id": "42d5e1bf",
   "metadata": {},
   "outputs": [
    {
     "data": {
      "text/plain": [
       "'(hello wordl),'"
      ]
     },
     "execution_count": 24,
     "metadata": {},
     "output_type": "execute_result"
    }
   ],
   "source": [
    "# Limpiando extremo strings\n",
    "text4 = \"(hello wordl), \"\n",
    "text4.strip()"
   ]
  },
  {
   "cell_type": "code",
   "execution_count": 25,
   "id": "53cf8511",
   "metadata": {},
   "outputs": [
    {
     "data": {
      "text/plain": [
       "'hello wordl'"
      ]
     },
     "execution_count": 25,
     "metadata": {},
     "output_type": "execute_result"
    }
   ],
   "source": [
    "text4.strip(\"(), \")"
   ]
  },
  {
   "cell_type": "code",
   "execution_count": 26,
   "id": "8f0418d2",
   "metadata": {},
   "outputs": [
    {
     "data": {
      "text/plain": [
       "'Hi World, Hi Universe'"
      ]
     },
     "execution_count": 26,
     "metadata": {},
     "output_type": "execute_result"
    }
   ],
   "source": [
    "# Reemplazando Strings\n",
    "text_5 = 'Hello World, Hello Universe'\n",
    "text_5.replace('Hello', 'Hi')"
   ]
  },
  {
   "cell_type": "code",
   "execution_count": 27,
   "id": "cdbbe184",
   "metadata": {},
   "outputs": [
    {
     "data": {
      "text/plain": [
       "6"
      ]
     },
     "execution_count": 27,
     "metadata": {},
     "output_type": "execute_result"
    }
   ],
   "source": [
    "#Encontrar el string\n",
    "text_5.find('World')"
   ]
  },
  {
   "cell_type": "code",
   "execution_count": 28,
   "id": "57db9867",
   "metadata": {},
   "outputs": [
    {
     "data": {
      "text/plain": [
       "'H'"
      ]
     },
     "execution_count": 28,
     "metadata": {},
     "output_type": "execute_result"
    }
   ],
   "source": [
    "#parte de un stirng\n",
    "text_5[0]"
   ]
  },
  {
   "cell_type": "code",
   "execution_count": 29,
   "id": "d72ff188",
   "metadata": {},
   "outputs": [
    {
     "data": {
      "text/plain": [
       "'olleH'"
      ]
     },
     "execution_count": 29,
     "metadata": {},
     "output_type": "execute_result"
    }
   ],
   "source": [
    "text_5[4::-1]"
   ]
  },
  {
   "cell_type": "code",
   "execution_count": 31,
   "id": "3f175b33",
   "metadata": {},
   "outputs": [
    {
     "data": {
      "text/plain": [
       "['HELLO', 'WORDL']"
      ]
     },
     "execution_count": 31,
     "metadata": {},
     "output_type": "execute_result"
    }
   ],
   "source": [
    "#llamada a una cadena\n",
    "text4.strip('(), ').upper().split()"
   ]
  },
  {
   "cell_type": "code",
   "execution_count": 32,
   "id": "53390993",
   "metadata": {},
   "outputs": [
    {
     "data": {
      "text/plain": [
       "'HolaAldair, este es el curso de Topicos Especiales BI'"
      ]
     },
     "execution_count": 32,
     "metadata": {},
     "output_type": "execute_result"
    }
   ],
   "source": [
    "#python f-strings\n",
    "nombre = \"Aldair\"\n",
    "curso = \"Topicos Especiales BI\"\n",
    "f'Hola{nombre}, este es el curso de {curso}'"
   ]
  },
  {
   "cell_type": "code",
   "execution_count": 33,
   "id": "3b235470",
   "metadata": {},
   "outputs": [],
   "source": [
    "#Otras operaciones con strings\n",
    "string_1 = \"hello world\"\n",
    "string_2 = '5'\n",
    "string_3 = 'cinco'"
   ]
  },
  {
   "cell_type": "code",
   "execution_count": 34,
   "id": "451a2e63",
   "metadata": {},
   "outputs": [
    {
     "data": {
      "text/plain": [
       "False"
      ]
     },
     "execution_count": 34,
     "metadata": {},
     "output_type": "execute_result"
    }
   ],
   "source": [
    "string_1.isdigit()"
   ]
  },
  {
   "cell_type": "code",
   "execution_count": 35,
   "id": "af7b84b0",
   "metadata": {},
   "outputs": [
    {
     "data": {
      "text/plain": [
       "True"
      ]
     },
     "execution_count": 35,
     "metadata": {},
     "output_type": "execute_result"
    }
   ],
   "source": [
    "string_2.isdigit()"
   ]
  },
  {
   "cell_type": "code",
   "execution_count": 37,
   "id": "82ad7d83",
   "metadata": {},
   "outputs": [
    {
     "data": {
      "text/plain": [
       "False"
      ]
     },
     "execution_count": 37,
     "metadata": {},
     "output_type": "execute_result"
    }
   ],
   "source": [
    "string_1.isalpha()"
   ]
  },
  {
   "cell_type": "code",
   "execution_count": null,
   "id": "3e349a69",
   "metadata": {},
   "outputs": [
    {
     "data": {
      "text/plain": [
       "True"
      ]
     },
     "execution_count": 38,
     "metadata": {},
     "output_type": "execute_result"
    }
   ],
   "source": [
    "string_3.isalpha() #es palabra"
   ]
  },
  {
   "cell_type": "code",
   "execution_count": 39,
   "id": "13c3f1bc",
   "metadata": {},
   "outputs": [
    {
     "data": {
      "text/plain": [
       "'abcdefghijklmnopqrstuvwxyz'"
      ]
     },
     "execution_count": 39,
     "metadata": {},
     "output_type": "execute_result"
    }
   ],
   "source": [
    "import string\n",
    "string.ascii_lowercase"
   ]
  },
  {
   "cell_type": "code",
   "execution_count": 40,
   "id": "a9b85de2",
   "metadata": {},
   "outputs": [
    {
     "data": {
      "text/plain": [
       "'ABCDEFGHIJKLMNOPQRSTUVWXYZ'"
      ]
     },
     "execution_count": 40,
     "metadata": {},
     "output_type": "execute_result"
    }
   ],
   "source": [
    "string.ascii_uppercase"
   ]
  },
  {
   "cell_type": "code",
   "execution_count": 41,
   "id": "ffaff9fa",
   "metadata": {},
   "outputs": [
    {
     "data": {
      "text/plain": [
       "'abcdefghijklmnopqrstuvwxyzABCDEFGHIJKLMNOPQRSTUVWXYZ'"
      ]
     },
     "execution_count": 41,
     "metadata": {},
     "output_type": "execute_result"
    }
   ],
   "source": [
    "string.ascii_letters"
   ]
  },
  {
   "cell_type": "code",
   "execution_count": 42,
   "id": "cb20a0cc",
   "metadata": {},
   "outputs": [
    {
     "data": {
      "text/plain": [
       "False"
      ]
     },
     "execution_count": 42,
     "metadata": {},
     "output_type": "execute_result"
    }
   ],
   "source": [
    "string_1.isalnum()"
   ]
  },
  {
   "cell_type": "code",
   "execution_count": 43,
   "id": "18ce3b16",
   "metadata": {},
   "outputs": [
    {
     "data": {
      "text/plain": [
       "True"
      ]
     },
     "execution_count": 43,
     "metadata": {},
     "output_type": "execute_result"
    }
   ],
   "source": [
    "string_2.isalnum()"
   ]
  }
 ],
 "metadata": {
  "kernelspec": {
   "display_name": "Python 3",
   "language": "python",
   "name": "python3"
  },
  "language_info": {
   "codemirror_mode": {
    "name": "ipython",
    "version": 3
   },
   "file_extension": ".py",
   "mimetype": "text/x-python",
   "name": "python",
   "nbconvert_exporter": "python",
   "pygments_lexer": "ipython3",
   "version": "3.13.7"
  }
 },
 "nbformat": 4,
 "nbformat_minor": 5
}
