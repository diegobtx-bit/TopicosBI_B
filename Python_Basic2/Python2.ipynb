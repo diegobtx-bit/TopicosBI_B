{
 "cells": [
  {
   "cell_type": "markdown",
   "id": "e2c51603",
   "metadata": {},
   "source": [
    "# Pyhton using Pandas and Numpy for Big Data\n",
    "\n",
    "Intala las librerias Pandas, Numpy, para trabajar con Big Data, para trabjaar con datos masivos"
   ]
  }
 ],
 "metadata": {
  "language_info": {
   "name": "python"
  }
 },
 "nbformat": 4,
 "nbformat_minor": 5
}
